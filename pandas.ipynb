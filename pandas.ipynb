{
  "nbformat": 4,
  "nbformat_minor": 0,
  "metadata": {
    "colab": {
      "name": "pandas.ipynb",
      "provenance": [],
      "collapsed_sections": [],
      "authorship_tag": "ABX9TyMqnMu9gkN8hl7GCyHRfvsL",
      "include_colab_link": true
    },
    "kernelspec": {
      "name": "python3",
      "display_name": "Python 3"
    },
    "language_info": {
      "name": "python"
    }
  },
  "cells": [
    {
      "cell_type": "markdown",
      "metadata": {
        "id": "view-in-github",
        "colab_type": "text"
      },
      "source": [
        "<a href=\"https://colab.research.google.com/github/khairiyah98/python_eda/blob/main/pandas.ipynb\" target=\"_parent\"><img src=\"https://colab.research.google.com/assets/colab-badge.svg\" alt=\"Open In Colab\"/></a>"
      ]
    },
    {
      "cell_type": "code",
      "metadata": {
        "colab": {
          "base_uri": "https://localhost:8080/"
        },
        "id": "f7QKqUZ3YeoM",
        "outputId": "7792828b-2b7c-498c-c974-d3851235a567"
      },
      "source": [
        "#Set working directory\n",
        "#@title Set up Directory { run: \"auto\"}\n",
        "import os\n",
        "from google.colab import drive \n",
        "drive.mount('/content/gdrive')\n",
        "working_directory = 'My Drive/Shopee' #@param {type:\"string\"}\n",
        "wd=\"/content/gdrive/\"+working_directory\n",
        "os.chdir(wd)\n",
        "\n",
        "dirpath = os.getcwd()\n",
        "print(\"current directory is : \" + dirpath)"
      ],
      "execution_count": null,
      "outputs": [
        {
          "output_type": "stream",
          "text": [
            "Mounted at /content/gdrive\n",
            "current directory is : /content/gdrive/My Drive/Shopee\n"
          ],
          "name": "stdout"
        }
      ]
    },
    {
      "cell_type": "markdown",
      "metadata": {
        "id": "u9Nz50jPZ5hT"
      },
      "source": [
        "1.\tUse pandas function to read the Test_Pandas.xlsx file in: (10 marks)\n",
        "\n",
        "a.\tAssign the result to a variable named “data”\n",
        "\n",
        "b.\tAssign all column names to a variable named “columns”"
      ]
    },
    {
      "cell_type": "code",
      "metadata": {
        "id": "drvAFyCxYxxF"
      },
      "source": [
        "import pandas as pd\n",
        "import xlrd\n",
        "\n",
        "df = pd.read_excel('Test_Pandas.xlsx')"
      ],
      "execution_count": null,
      "outputs": []
    },
    {
      "cell_type": "code",
      "metadata": {
        "colab": {
          "base_uri": "https://localhost:8080/",
          "height": 307
        },
        "id": "Uoi40IFbY_yl",
        "outputId": "3c12cfab-248a-46c3-f00c-27c01f756274"
      },
      "source": [
        "df.head()"
      ],
      "execution_count": null,
      "outputs": [
        {
          "output_type": "execute_result",
          "data": {
            "text/html": [
              "<div>\n",
              "<style scoped>\n",
              "    .dataframe tbody tr th:only-of-type {\n",
              "        vertical-align: middle;\n",
              "    }\n",
              "\n",
              "    .dataframe tbody tr th {\n",
              "        vertical-align: top;\n",
              "    }\n",
              "\n",
              "    .dataframe thead th {\n",
              "        text-align: right;\n",
              "    }\n",
              "</style>\n",
              "<table border=\"1\" class=\"dataframe\">\n",
              "  <thead>\n",
              "    <tr style=\"text-align: right;\">\n",
              "      <th></th>\n",
              "      <th>itemid</th>\n",
              "      <th>shopid</th>\n",
              "      <th>item_name</th>\n",
              "      <th>item_description</th>\n",
              "      <th>item_variation</th>\n",
              "      <th>price</th>\n",
              "      <th>stock</th>\n",
              "      <th>category</th>\n",
              "      <th>cb_option</th>\n",
              "      <th>is_preferred</th>\n",
              "      <th>sold_count</th>\n",
              "      <th>item_creation_date</th>\n",
              "    </tr>\n",
              "  </thead>\n",
              "  <tbody>\n",
              "    <tr>\n",
              "      <th>0</th>\n",
              "      <td>1925574</td>\n",
              "      <td>210000</td>\n",
              "      <td>Golden mobile numbers</td>\n",
              "      <td>Unregistered prepaid cards1) 93355333  selling...</td>\n",
              "      <td>{}</td>\n",
              "      <td>400.0</td>\n",
              "      <td>1</td>\n",
              "      <td>Mobile &amp; Gadgets</td>\n",
              "      <td>0</td>\n",
              "      <td>0</td>\n",
              "      <td>0</td>\n",
              "      <td>2015-10-01 00:24:42</td>\n",
              "    </tr>\n",
              "    <tr>\n",
              "      <th>1</th>\n",
              "      <td>1925617</td>\n",
              "      <td>210000</td>\n",
              "      <td>Golden mobile numbers</td>\n",
              "      <td>Unregistered prepaid cards1) 93355888  selling...</td>\n",
              "      <td>{}</td>\n",
              "      <td>400.0</td>\n",
              "      <td>1</td>\n",
              "      <td>Mobile &amp; Gadgets</td>\n",
              "      <td>0</td>\n",
              "      <td>0</td>\n",
              "      <td>0</td>\n",
              "      <td>2015-10-01 00:26:37</td>\n",
              "    </tr>\n",
              "    <tr>\n",
              "      <th>2</th>\n",
              "      <td>943600</td>\n",
              "      <td>210000</td>\n",
              "      <td>Golden Mobile Numbers</td>\n",
              "      <td>Unregistered prepaid cards. Can port to post p...</td>\n",
              "      <td>{}</td>\n",
              "      <td>8.0</td>\n",
              "      <td>1</td>\n",
              "      <td>Mobile &amp; Gadgets</td>\n",
              "      <td>0</td>\n",
              "      <td>0</td>\n",
              "      <td>0</td>\n",
              "      <td>2015-08-25 21:02:13</td>\n",
              "    </tr>\n",
              "    <tr>\n",
              "      <th>3</th>\n",
              "      <td>1064405</td>\n",
              "      <td>210000</td>\n",
              "      <td>Golden Mobile Numbers</td>\n",
              "      <td>Unregistered prepaid cards. Can port to post p...</td>\n",
              "      <td>{}</td>\n",
              "      <td>8.0</td>\n",
              "      <td>1</td>\n",
              "      <td>Mobile &amp; Gadgets</td>\n",
              "      <td>0</td>\n",
              "      <td>0</td>\n",
              "      <td>0</td>\n",
              "      <td>2015-08-30 20:16:07</td>\n",
              "    </tr>\n",
              "    <tr>\n",
              "      <th>4</th>\n",
              "      <td>20046620</td>\n",
              "      <td>760000</td>\n",
              "      <td>101% AUTHENTIC BASEBALL CAPS</td>\n",
              "      <td>PREORDER Takes about 23 weeks to arrive, will ...</td>\n",
              "      <td>{NEWERA BLACK: 35.0, NIKE SWOOSH DENIM: 35.0, ...</td>\n",
              "      <td>35.0</td>\n",
              "      <td>300</td>\n",
              "      <td>Women's Apparel</td>\n",
              "      <td>0</td>\n",
              "      <td>0</td>\n",
              "      <td>0</td>\n",
              "      <td>2016-05-09 01:14:34</td>\n",
              "    </tr>\n",
              "  </tbody>\n",
              "</table>\n",
              "</div>"
            ],
            "text/plain": [
              "     itemid  shopid  ... sold_count  item_creation_date\n",
              "0   1925574  210000  ...          0 2015-10-01 00:24:42\n",
              "1   1925617  210000  ...          0 2015-10-01 00:26:37\n",
              "2    943600  210000  ...          0 2015-08-25 21:02:13\n",
              "3   1064405  210000  ...          0 2015-08-30 20:16:07\n",
              "4  20046620  760000  ...          0 2016-05-09 01:14:34\n",
              "\n",
              "[5 rows x 12 columns]"
            ]
          },
          "metadata": {
            "tags": []
          },
          "execution_count": 3
        }
      ]
    },
    {
      "cell_type": "code",
      "metadata": {
        "colab": {
          "base_uri": "https://localhost:8080/"
        },
        "id": "CtFYs8M9dujg",
        "outputId": "48461543-14b2-4856-f18a-222053344f59"
      },
      "source": [
        "df.shape"
      ],
      "execution_count": null,
      "outputs": [
        {
          "output_type": "execute_result",
          "data": {
            "text/plain": [
              "(464433, 12)"
            ]
          },
          "metadata": {
            "tags": []
          },
          "execution_count": 4
        }
      ]
    },
    {
      "cell_type": "code",
      "metadata": {
        "colab": {
          "base_uri": "https://localhost:8080/"
        },
        "id": "pklRxZi0d5Gi",
        "outputId": "d228a8c2-7236-4c24-afc8-3c42f2560322"
      },
      "source": [
        "df.item_creation_date"
      ],
      "execution_count": null,
      "outputs": [
        {
          "output_type": "execute_result",
          "data": {
            "text/plain": [
              "0        2015-10-01 00:24:42\n",
              "1        2015-10-01 00:26:37\n",
              "2        2015-08-25 21:02:13\n",
              "3        2015-08-30 20:16:07\n",
              "4        2016-05-09 01:14:34\n",
              "                 ...        \n",
              "464428   2017-09-24 18:42:46\n",
              "464429   2017-09-15 21:10:15\n",
              "464430   2017-09-17 09:07:06\n",
              "464431   2017-05-14 11:46:53\n",
              "464432   2017-06-20 21:48:26\n",
              "Name: item_creation_date, Length: 464433, dtype: datetime64[ns]"
            ]
          },
          "metadata": {
            "tags": []
          },
          "execution_count": 5
        }
      ]
    },
    {
      "cell_type": "code",
      "metadata": {
        "colab": {
          "base_uri": "https://localhost:8080/"
        },
        "id": "vbhXu9cUZU5-",
        "outputId": "bd42710d-2e08-49eb-8225-939b84e78ee5"
      },
      "source": [
        "# list(data) or\n",
        "list(df.columns)"
      ],
      "execution_count": null,
      "outputs": [
        {
          "output_type": "execute_result",
          "data": {
            "text/plain": [
              "['itemid',\n",
              " 'shopid',\n",
              " 'item_name',\n",
              " 'item_description',\n",
              " 'item_variation',\n",
              " 'price',\n",
              " 'stock',\n",
              " 'category',\n",
              " 'cb_option',\n",
              " 'is_preferred',\n",
              " 'sold_count',\n",
              " 'item_creation_date']"
            ]
          },
          "metadata": {
            "tags": []
          },
          "execution_count": 6
        }
      ]
    },
    {
      "cell_type": "code",
      "metadata": {
        "colab": {
          "base_uri": "https://localhost:8080/"
        },
        "id": "G5H_C93Yc1kE",
        "outputId": "1f58955b-5a5f-4f12-d893-dd95723ab9fe"
      },
      "source": [
        "df.price"
      ],
      "execution_count": null,
      "outputs": [
        {
          "output_type": "execute_result",
          "data": {
            "text/plain": [
              "0         400.0\n",
              "1         400.0\n",
              "2           8.0\n",
              "3           8.0\n",
              "4          35.0\n",
              "          ...  \n",
              "464428      8.3\n",
              "464429      0.6\n",
              "464430      3.0\n",
              "464431      2.0\n",
              "464432      4.0\n",
              "Name: price, Length: 464433, dtype: float64"
            ]
          },
          "metadata": {
            "tags": []
          },
          "execution_count": 58
        }
      ]
    },
    {
      "cell_type": "markdown",
      "metadata": {
        "id": "rzbyp3WjZ-nO"
      },
      "source": [
        "2.\tUse pandas function to find: (20 marks)\n",
        "a.\tHow many unique shops are in the dataset?\n",
        "b.\tHow many unique preferred and cross border shops are in the dataset?\n",
        "c.\tHow many products have zero sold count?\n",
        "d.\tHow many products were created in the year 2018?\n"
      ]
    },
    {
      "cell_type": "code",
      "metadata": {
        "colab": {
          "base_uri": "https://localhost:8080/"
        },
        "id": "cdlpDsQ6aBDl",
        "outputId": "53422a56-885f-4dc0-a188-d716eb37a6c8"
      },
      "source": [
        "#a\n",
        "df['shopid'].nunique()"
      ],
      "execution_count": null,
      "outputs": [
        {
          "output_type": "execute_result",
          "data": {
            "text/plain": [
              "7856"
            ]
          },
          "metadata": {
            "tags": []
          },
          "execution_count": 7
        }
      ]
    },
    {
      "cell_type": "code",
      "metadata": {
        "colab": {
          "base_uri": "https://localhost:8080/"
        },
        "id": "MMLz1bmRcezg",
        "outputId": "bb7e7c59-9b19-47de-d45e-45e701653282"
      },
      "source": [
        "#b\n",
        "df[(df.cb_option == 1) & (df.is_preferred == 1)]['shopid'].nunique()"
      ],
      "execution_count": null,
      "outputs": [
        {
          "output_type": "execute_result",
          "data": {
            "text/plain": [
              "158"
            ]
          },
          "metadata": {
            "tags": []
          },
          "execution_count": 8
        }
      ]
    },
    {
      "cell_type": "code",
      "metadata": {
        "colab": {
          "base_uri": "https://localhost:8080/"
        },
        "id": "t-t2IrGzdUJm",
        "outputId": "cec13a7c-6dd8-476c-d550-041c4d27d788"
      },
      "source": [
        "#c\n",
        "df[df.sold_count == 0]['itemid'].nunique()"
      ],
      "execution_count": null,
      "outputs": [
        {
          "output_type": "execute_result",
          "data": {
            "text/plain": [
              "438092"
            ]
          },
          "metadata": {
            "tags": []
          },
          "execution_count": 9
        }
      ]
    },
    {
      "cell_type": "code",
      "metadata": {
        "colab": {
          "base_uri": "https://localhost:8080/"
        },
        "id": "ZZIj7lBFd1xL",
        "outputId": "1d1831ed-bf65-4fa4-84c6-311a4b3cf71a"
      },
      "source": [
        "#d\n",
        "df['year']= df['item_creation_date'].dt.year\n",
        "df[df.year == 2018]['itemid'].nunique()"
      ],
      "execution_count": null,
      "outputs": [
        {
          "output_type": "execute_result",
          "data": {
            "text/plain": [
              "177407"
            ]
          },
          "metadata": {
            "tags": []
          },
          "execution_count": 10
        }
      ]
    },
    {
      "cell_type": "markdown",
      "metadata": {
        "id": "a1f8W_cWaB2R"
      },
      "source": [
        "\n",
        "3.\tUse pandas function to find: (10 marks)\n",
        "a.\tTop 3 Preferred shops’ shopid that have the largest number of unique products\n",
        "b.\tTop 3 Categories that have the largest number of unique cross-border products"
      ]
    },
    {
      "cell_type": "code",
      "metadata": {
        "colab": {
          "base_uri": "https://localhost:8080/"
        },
        "id": "p1hPJAcLaDji",
        "outputId": "90654188-7155-4ec8-ad14-bc6f3029ed0e"
      },
      "source": [
        "#a\n",
        "df[df.is_preferred == 1].groupby(by=\"shopid\")['itemid'].nunique().sort_values(ascending=False)[0:3]"
      ],
      "execution_count": null,
      "outputs": [
        {
          "output_type": "execute_result",
          "data": {
            "text/plain": [
              "shopid\n",
              "43384791    2034\n",
              "6072241     1998\n",
              "26974701    1037\n",
              "Name: itemid, dtype: int64"
            ]
          },
          "metadata": {
            "tags": []
          },
          "execution_count": 18
        }
      ]
    },
    {
      "cell_type": "code",
      "metadata": {
        "colab": {
          "base_uri": "https://localhost:8080/"
        },
        "id": "eIM1y1fmCDVu",
        "outputId": "e4bf8049-3ca5-4fd2-e5d4-3001ae2f9350"
      },
      "source": [
        "#b\n",
        "df[df.cb_option == 1].groupby(by=\"category\")['itemid'].nunique().sort_values(ascending=False)[0:3]"
      ],
      "execution_count": null,
      "outputs": [
        {
          "output_type": "execute_result",
          "data": {
            "text/plain": [
              "category\n",
              "Women's Apparel     80494\n",
              "Mobile & Gadgets    58760\n",
              "Men's Wear          51795\n",
              "Name: itemid, dtype: int64"
            ]
          },
          "metadata": {
            "tags": []
          },
          "execution_count": 19
        }
      ]
    },
    {
      "cell_type": "markdown",
      "metadata": {
        "id": "wc3ZvUFOaD9U"
      },
      "source": [
        "4.\tFind Top 3 shopid with the highest revenue (Assumption: the product price has not been changed.) (15 marks)\n"
      ]
    },
    {
      "cell_type": "code",
      "metadata": {
        "colab": {
          "base_uri": "https://localhost:8080/"
        },
        "id": "aekQ52_pCxWy",
        "outputId": "1eb6c1d8-cd5e-4d27-a863-5b2f1297e07c"
      },
      "source": [
        "df['revenue'] = df.price * df.sold_count\n",
        "df.groupby(by=\"shopid\")['revenue'].agg('sum').sort_values(ascending=False)[0:3]"
      ],
      "execution_count": null,
      "outputs": [
        {
          "output_type": "execute_result",
          "data": {
            "text/plain": [
              "shopid\n",
              "18796234    177897.79\n",
              "30769353     63491.39\n",
              "30628794     39852.00\n",
              "Name: revenue, dtype: float64"
            ]
          },
          "metadata": {
            "tags": []
          },
          "execution_count": 60
        }
      ]
    },
    {
      "cell_type": "markdown",
      "metadata": {
        "id": "dxjaQCbbaFND"
      },
      "source": [
        "\n",
        "5.\tFind number of products that have more than 3 variations (do not include products with 3 or fewer variations) (15 marks)\n"
      ]
    },
    {
      "cell_type": "code",
      "metadata": {
        "colab": {
          "base_uri": "https://localhost:8080/"
        },
        "id": "GcE59pGpaGvF",
        "outputId": "e367e52f-39cf-4781-eb4e-7634c444a05b"
      },
      "source": [
        "import numpy as np\n",
        "df['variant_count'] = np.where(df['item_variation']== '{}', 0, df.item_variation.str.count(',') + 1)\n",
        "#df.head()\n",
        "df[df.variant_count > 3]['itemid'].nunique()\n",
        "#df[df.variant_count > 3].shape[0]"
      ],
      "execution_count": null,
      "outputs": [
        {
          "output_type": "execute_result",
          "data": {
            "text/plain": [
              "240976"
            ]
          },
          "metadata": {
            "tags": []
          },
          "execution_count": 56
        }
      ]
    },
    {
      "cell_type": "code",
      "metadata": {
        "colab": {
          "base_uri": "https://localhost:8080/",
          "height": 35
        },
        "id": "j60xkryPREKB",
        "outputId": "c5341eee-d2f7-472b-b0b9-a385ec1f8b5c"
      },
      "source": [
        "df['item_variation'][4]"
      ],
      "execution_count": null,
      "outputs": [
        {
          "output_type": "execute_result",
          "data": {
            "application/vnd.google.colaboratory.intrinsic+json": {
              "type": "string"
            },
            "text/plain": [
              "'{NEWERA BLACK: 35.0, NIKE SWOOSH DENIM: 35.0, NIKE SWOOSH BLACK: 35.0, NIKE SMALL SWOOSH: 35.0, NEWERA WHITE: 35.0, NEWERA MAROON: 35.0}'"
            ]
          },
          "metadata": {
            "tags": []
          },
          "execution_count": 46
        }
      ]
    },
    {
      "cell_type": "markdown",
      "metadata": {
        "id": "Do_0a3z6aHTO"
      },
      "source": [
        "\n",
        "6.\tUse pandas function to identify duplicated listings within each shop (If listing A and B in shop S have the exactly same product title, product detailed description, and price, both listing A and B are considered as duplicated listings) (30 marks)\n",
        "\n",
        "a.\tMark those duplicated listings with True otherwise False and store the marking result in a new column named “is_duplicated” \n",
        "\n",
        "b.\tFind duplicate listings that has less than 2 sold count and store the result in a new excel file named “duplicated_listings.xlsx”\n",
        "\n",
        "c.\tFind the preferred shop shopid that have the most number of duplicated listings"
      ]
    },
    {
      "cell_type": "code",
      "metadata": {
        "colab": {
          "base_uri": "https://localhost:8080/",
          "height": 392
        },
        "id": "oc74RdhcaIFX",
        "outputId": "716cae46-7b20-47fe-c7b1-85a378d0a361"
      },
      "source": [
        "#a\n",
        "# Find a duplicate rows\n",
        "dup_col = df.duplicated(subset=['item_name', 'item_description', 'price'])\n",
        "df['is_duplicated'] = dup_col\n",
        "df.head()\n",
        "#df[df.duplicated(['item_name', 'item_description', 'price'])] #to double check"
      ],
      "execution_count": null,
      "outputs": [
        {
          "output_type": "execute_result",
          "data": {
            "text/html": [
              "<div>\n",
              "<style scoped>\n",
              "    .dataframe tbody tr th:only-of-type {\n",
              "        vertical-align: middle;\n",
              "    }\n",
              "\n",
              "    .dataframe tbody tr th {\n",
              "        vertical-align: top;\n",
              "    }\n",
              "\n",
              "    .dataframe thead th {\n",
              "        text-align: right;\n",
              "    }\n",
              "</style>\n",
              "<table border=\"1\" class=\"dataframe\">\n",
              "  <thead>\n",
              "    <tr style=\"text-align: right;\">\n",
              "      <th></th>\n",
              "      <th>itemid</th>\n",
              "      <th>shopid</th>\n",
              "      <th>item_name</th>\n",
              "      <th>item_description</th>\n",
              "      <th>item_variation</th>\n",
              "      <th>price</th>\n",
              "      <th>stock</th>\n",
              "      <th>category</th>\n",
              "      <th>cb_option</th>\n",
              "      <th>is_preferred</th>\n",
              "      <th>sold_count</th>\n",
              "      <th>item_creation_date</th>\n",
              "      <th>year</th>\n",
              "      <th>is_duplicated</th>\n",
              "    </tr>\n",
              "  </thead>\n",
              "  <tbody>\n",
              "    <tr>\n",
              "      <th>0</th>\n",
              "      <td>1925574</td>\n",
              "      <td>210000</td>\n",
              "      <td>Golden mobile numbers</td>\n",
              "      <td>Unregistered prepaid cards1) 93355333  selling...</td>\n",
              "      <td>{}</td>\n",
              "      <td>400.0</td>\n",
              "      <td>1</td>\n",
              "      <td>Mobile &amp; Gadgets</td>\n",
              "      <td>0</td>\n",
              "      <td>0</td>\n",
              "      <td>0</td>\n",
              "      <td>2015-10-01 00:24:42</td>\n",
              "      <td>2015</td>\n",
              "      <td>False</td>\n",
              "    </tr>\n",
              "    <tr>\n",
              "      <th>1</th>\n",
              "      <td>1925617</td>\n",
              "      <td>210000</td>\n",
              "      <td>Golden mobile numbers</td>\n",
              "      <td>Unregistered prepaid cards1) 93355888  selling...</td>\n",
              "      <td>{}</td>\n",
              "      <td>400.0</td>\n",
              "      <td>1</td>\n",
              "      <td>Mobile &amp; Gadgets</td>\n",
              "      <td>0</td>\n",
              "      <td>0</td>\n",
              "      <td>0</td>\n",
              "      <td>2015-10-01 00:26:37</td>\n",
              "      <td>2015</td>\n",
              "      <td>False</td>\n",
              "    </tr>\n",
              "    <tr>\n",
              "      <th>2</th>\n",
              "      <td>943600</td>\n",
              "      <td>210000</td>\n",
              "      <td>Golden Mobile Numbers</td>\n",
              "      <td>Unregistered prepaid cards. Can port to post p...</td>\n",
              "      <td>{}</td>\n",
              "      <td>8.0</td>\n",
              "      <td>1</td>\n",
              "      <td>Mobile &amp; Gadgets</td>\n",
              "      <td>0</td>\n",
              "      <td>0</td>\n",
              "      <td>0</td>\n",
              "      <td>2015-08-25 21:02:13</td>\n",
              "      <td>2015</td>\n",
              "      <td>False</td>\n",
              "    </tr>\n",
              "    <tr>\n",
              "      <th>3</th>\n",
              "      <td>1064405</td>\n",
              "      <td>210000</td>\n",
              "      <td>Golden Mobile Numbers</td>\n",
              "      <td>Unregistered prepaid cards. Can port to post p...</td>\n",
              "      <td>{}</td>\n",
              "      <td>8.0</td>\n",
              "      <td>1</td>\n",
              "      <td>Mobile &amp; Gadgets</td>\n",
              "      <td>0</td>\n",
              "      <td>0</td>\n",
              "      <td>0</td>\n",
              "      <td>2015-08-30 20:16:07</td>\n",
              "      <td>2015</td>\n",
              "      <td>False</td>\n",
              "    </tr>\n",
              "    <tr>\n",
              "      <th>4</th>\n",
              "      <td>20046620</td>\n",
              "      <td>760000</td>\n",
              "      <td>101% AUTHENTIC BASEBALL CAPS</td>\n",
              "      <td>PREORDER Takes about 23 weeks to arrive, will ...</td>\n",
              "      <td>{NEWERA BLACK: 35.0, NIKE SWOOSH DENIM: 35.0, ...</td>\n",
              "      <td>35.0</td>\n",
              "      <td>300</td>\n",
              "      <td>Women's Apparel</td>\n",
              "      <td>0</td>\n",
              "      <td>0</td>\n",
              "      <td>0</td>\n",
              "      <td>2016-05-09 01:14:34</td>\n",
              "      <td>2016</td>\n",
              "      <td>False</td>\n",
              "    </tr>\n",
              "  </tbody>\n",
              "</table>\n",
              "</div>"
            ],
            "text/plain": [
              "     itemid  shopid  ...  year is_duplicated\n",
              "0   1925574  210000  ...  2015         False\n",
              "1   1925617  210000  ...  2015         False\n",
              "2    943600  210000  ...  2015         False\n",
              "3   1064405  210000  ...  2015         False\n",
              "4  20046620  760000  ...  2016         False\n",
              "\n",
              "[5 rows x 14 columns]"
            ]
          },
          "metadata": {
            "tags": []
          },
          "execution_count": 24
        }
      ]
    },
    {
      "cell_type": "code",
      "metadata": {
        "id": "9IiNA7j_FBuz"
      },
      "source": [
        "#b\n",
        "duplicated_listings = df[(df.is_duplicated == True) & (df.sold_count < 2)]\n",
        "!pip install xlsxwriter\n",
        "df.to_excel('duplicated_listings.xlsx', engine='xlsxwriter')"
      ],
      "execution_count": null,
      "outputs": []
    },
    {
      "cell_type": "code",
      "metadata": {
        "colab": {
          "base_uri": "https://localhost:8080/"
        },
        "id": "oUU5vSSfJOMC",
        "outputId": "79d5de83-71d5-46cf-f45e-d7ac29ad3a8f"
      },
      "source": [
        "#c - find the preferred shop shopid that have the most number of duplicated listings\n",
        "df[(df.is_preferred == 1) & (df.is_duplicated == True)].groupby(by=\"shopid\").size().sort_values(ascending=False)[0:3]"
      ],
      "execution_count": null,
      "outputs": [
        {
          "output_type": "execute_result",
          "data": {
            "text/plain": [
              "shopid\n",
              "43384791    1933\n",
              "6072241      791\n",
              "8090602      434\n",
              "dtype: int64"
            ]
          },
          "metadata": {
            "tags": []
          },
          "execution_count": 36
        }
      ]
    }
  ]
}